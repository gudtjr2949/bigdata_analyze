{
  "cells": [
    {
      "cell_type": "code",
      "execution_count": 1,
      "id": "b15f2047",
      "metadata": {
        "id": "b15f2047"
      },
      "outputs": [],
      "source": [
        "import pandas as pd\n",
        "import os\n",
        "import sys\n",
        "import urllib.request\n",
        "import json\n",
        "import re"
      ]
    },
    {
      "cell_type": "code",
      "execution_count": 2,
      "id": "093197ca",
      "metadata": {
        "id": "093197ca"
      },
      "outputs": [],
      "source": [
        "def clean_html(x):\n",
        "  #https://predictor-ver1.tistory.com/4\n",
        "  x = re.sub(\"\\&\\w*\\;\",\"\",x)\n",
        "  x = re.sub(\"<.*?>\",\"\",x)\n",
        "  return x"
      ]
    },
    {
      "cell_type": "code",
      "execution_count": 3,
      "id": "58b76712",
      "metadata": {
        "id": "58b76712"
      },
      "outputs": [],
      "source": [
        "client_id = \"발급받은 ID 입력\"\n",
        "client_secret = \"발급받은 PW 입력\" \n",
        "encText = urllib.parse.quote(\"GS리테일\") # 검색할 단어 입력\n",
        "url = \"https://openapi.naver.com/v1/search/news?query=\" + encText # json 결과\n",
        "#url = \"https://openapi.naver.com/v1/search/news.xml?query=\" + encText # xml 결과\n",
        "request = urllib.request.Request(url)\n",
        "request.add_header(\"X-Naver-Client-Id\",client_id)\n",
        "request.add_header(\"X-Naver-Client-Secret\",client_secret)\n",
        "response = urllib.request.urlopen(request)\n",
        "rescode = response.getcode()\n",
        "if(rescode==200):\n",
        "    response_body = response.read()\n",
        "    result = response_body.decode('utf-8')\n",
        "    #print(result)\n",
        "else:\n",
        "    print(\"Error Code:\" + rescode)"
      ]
    },
    {
      "cell_type": "code",
      "execution_count": 4,
      "id": "4e5673f9",
      "metadata": {
        "id": "4e5673f9"
      },
      "outputs": [],
      "source": [
        "result_json = json.loads(result)"
      ]
    },
    {
      "cell_type": "code",
      "execution_count": 5,
      "id": "bb81944d",
      "metadata": {
        "id": "bb81944d"
      },
      "outputs": [],
      "source": [
        "df_json = pd.DataFrame(result_json[\"items\"])"
      ]
    },
    {
      "cell_type": "code",
      "execution_count": 6,
      "id": "37ab8f45",
      "metadata": {
        "id": "37ab8f45"
      },
      "outputs": [],
      "source": [
        "df_json['title'] = df_json['title'].apply(lambda x: clean_html(x))\n",
        "df_json['description'] = df_json['description'].apply(lambda x: clean_html(x))"
      ]
    },
    {
      "cell_type": "code",
      "source": [
        "df_json"
      ],
      "metadata": {
        "colab": {
          "base_uri": "https://localhost:8080/",
          "height": 528
        },
        "id": "jpcheT_Z1LWq",
        "outputId": "bcc7ee61-5aeb-455f-8963-f52b700f151d"
      },
      "id": "jpcheT_Z1LWq",
      "execution_count": 22,
      "outputs": [
        {
          "output_type": "execute_result",
          "data": {
            "text/plain": [
              "                                      title  \\\n",
              "0    옥시·애경 반대로 가습기살균제 피해 조정 무산…다시 막막해진 피해보상   \n",
              "1            GS25, 자사 유니폼 입은 NFT 메타콩즈 출시 추진   \n",
              "2  ‘가치 차별화’ 선점하는 GS리테일, 리테일 전용 ‘NFT캐릭터’ 만든다   \n",
              "3            사회적 거리두기 완화되자… 유통가 대고객행사 속속 재개   \n",
              "4             [여행] 제주 여행도 럭셔리하게…5성급 호텔 몰려든다   \n",
              "5      옥시·애경 분담금 수용 불가…11년만의 가습기살균제 조정 무산되나   \n",
              "6           '바리스타, 서빙, 배달, 튀기기'…일하는 로봇 전성시대   \n",
              "7            GS리테일, 메타콩즈와 손잡고 ‘NFT 프로젝트’ 협업   \n",
              "8             옥시·애경, 가습기살균제 조정안 반대…조정 성립 난항   \n",
              "9          GS리테일, MZ세대 잡기 위해 NFT '메타콩즈'와 협업   \n",
              "\n",
              "                                        originallink  \\\n",
              "0  https://www.khan.co.kr/national/national-gener...   \n",
              "1  http://www.newsfreezone.co.kr/news/articleView...   \n",
              "2  http://sports.khan.co.kr/news/sk_index.html?ar...   \n",
              "3  http://www.dt.co.kr/contents.html?article_no=2...   \n",
              "4        https://www.sedaily.com/NewsView/264KR9O157   \n",
              "5        https://www.joongang.co.kr/article/25061116   \n",
              "6     http://www.upinews.kr/newsView/upi202204050055   \n",
              "7  https://www.dnews.co.kr/uhtml/view.jsp?idxno=2...   \n",
              "8  https://biz.sbs.co.kr/article_hub/20000057208?...   \n",
              "9  http://www.newsis.com/view/?id=NISX20220405_00...   \n",
              "\n",
              "                                                link  \\\n",
              "0  https://news.naver.com/main/read.naver?mode=LS...   \n",
              "1  http://www.newsfreezone.co.kr/news/articleView...   \n",
              "2  https://news.naver.com/main/read.naver?mode=LS...   \n",
              "3  https://news.naver.com/main/read.naver?mode=LS...   \n",
              "4  https://news.naver.com/main/read.naver?mode=LS...   \n",
              "5  https://news.naver.com/main/read.naver?mode=LS...   \n",
              "6     http://www.upinews.kr/newsView/upi202204050055   \n",
              "7  https://www.dnews.co.kr/uhtml/view.jsp?idxno=2...   \n",
              "8  https://news.naver.com/main/read.naver?mode=LS...   \n",
              "9  https://news.naver.com/main/read.naver?mode=LS...   \n",
              "\n",
              "                                         description  \\\n",
              "0  SK케미칼·SK이노베이션·LG생활건강·GS리테일·롯데쇼핑·이마트·홈플러스 등 7개 ...   \n",
              "1  GS리테일은 5일, (주)메타콩즈와 손잡고 '블록체인 기반 NFT 프로젝트'의 추진...   \n",
              "2  GS리테일이 (주)메타콩즈와 손잡고 블록체인 기반 NFT 프로젝트 추진 및 상호 시...   \n",
              "3  5일 유통업계에 따르면 롯데홈쇼핑이 최근 공공전시 '벨리곰' 행사를 이슈화하는 데에...   \n",
              "4  5일 호텔 업계에 따르면 GS리테일의 호텔 사업 부문인 파르나스호텔이 7월 서귀포 ...   \n",
              "5  SK케미칼·SK이노베이션·LG생활건강·GS리테일·롯데쇼핑·이마트·홈플러스 등 7개 ...   \n",
              "6  GS리테일이 운영하는 편의점 GS25도 이달 말 치킨 조리 협동로봇의 시범 운영을 ...   \n",
              "7  5일 GS리테일에 따르면메타콩즈와 손잡고 ‘블록체인 기반 NFT 프로젝트’의 추진 ...   \n",
              "8  조정위에 참여한 가습기살균제 제조·유통기업은 롯데쇼핑·애경산업·이마트·SK이노베이션...   \n",
              "9  GS리테일은 5일 메타콩즈와 손잡고 '블록체인 기반 NFT 프로젝트' 추진을 위한 ...   \n",
              "\n",
              "                           pubDate  \n",
              "0  Tue, 05 Apr 2022 21:22:00 +0900  \n",
              "1  Tue, 05 Apr 2022 21:16:00 +0900  \n",
              "2  Tue, 05 Apr 2022 20:13:00 +0900  \n",
              "3  Tue, 05 Apr 2022 19:46:00 +0900  \n",
              "4  Tue, 05 Apr 2022 18:16:00 +0900  \n",
              "5  Tue, 05 Apr 2022 18:12:00 +0900  \n",
              "6  Tue, 05 Apr 2022 18:08:00 +0900  \n",
              "7  Tue, 05 Apr 2022 18:02:00 +0900  \n",
              "8  Tue, 05 Apr 2022 17:55:00 +0900  \n",
              "9  Tue, 05 Apr 2022 17:22:00 +0900  "
            ],
            "text/html": [
              "\n",
              "  <div id=\"df-8d0bf39b-757c-4046-a96f-572d0950c69b\">\n",
              "    <div class=\"colab-df-container\">\n",
              "      <div>\n",
              "<style scoped>\n",
              "    .dataframe tbody tr th:only-of-type {\n",
              "        vertical-align: middle;\n",
              "    }\n",
              "\n",
              "    .dataframe tbody tr th {\n",
              "        vertical-align: top;\n",
              "    }\n",
              "\n",
              "    .dataframe thead th {\n",
              "        text-align: right;\n",
              "    }\n",
              "</style>\n",
              "<table border=\"1\" class=\"dataframe\">\n",
              "  <thead>\n",
              "    <tr style=\"text-align: right;\">\n",
              "      <th></th>\n",
              "      <th>title</th>\n",
              "      <th>originallink</th>\n",
              "      <th>link</th>\n",
              "      <th>description</th>\n",
              "      <th>pubDate</th>\n",
              "    </tr>\n",
              "  </thead>\n",
              "  <tbody>\n",
              "    <tr>\n",
              "      <th>0</th>\n",
              "      <td>옥시·애경 반대로 가습기살균제 피해 조정 무산…다시 막막해진 피해보상</td>\n",
              "      <td>https://www.khan.co.kr/national/national-gener...</td>\n",
              "      <td>https://news.naver.com/main/read.naver?mode=LS...</td>\n",
              "      <td>SK케미칼·SK이노베이션·LG생활건강·GS리테일·롯데쇼핑·이마트·홈플러스 등 7개 ...</td>\n",
              "      <td>Tue, 05 Apr 2022 21:22:00 +0900</td>\n",
              "    </tr>\n",
              "    <tr>\n",
              "      <th>1</th>\n",
              "      <td>GS25, 자사 유니폼 입은 NFT 메타콩즈 출시 추진</td>\n",
              "      <td>http://www.newsfreezone.co.kr/news/articleView...</td>\n",
              "      <td>http://www.newsfreezone.co.kr/news/articleView...</td>\n",
              "      <td>GS리테일은 5일, (주)메타콩즈와 손잡고 '블록체인 기반 NFT 프로젝트'의 추진...</td>\n",
              "      <td>Tue, 05 Apr 2022 21:16:00 +0900</td>\n",
              "    </tr>\n",
              "    <tr>\n",
              "      <th>2</th>\n",
              "      <td>‘가치 차별화’ 선점하는 GS리테일, 리테일 전용 ‘NFT캐릭터’ 만든다</td>\n",
              "      <td>http://sports.khan.co.kr/news/sk_index.html?ar...</td>\n",
              "      <td>https://news.naver.com/main/read.naver?mode=LS...</td>\n",
              "      <td>GS리테일이 (주)메타콩즈와 손잡고 블록체인 기반 NFT 프로젝트 추진 및 상호 시...</td>\n",
              "      <td>Tue, 05 Apr 2022 20:13:00 +0900</td>\n",
              "    </tr>\n",
              "    <tr>\n",
              "      <th>3</th>\n",
              "      <td>사회적 거리두기 완화되자… 유통가 대고객행사 속속 재개</td>\n",
              "      <td>http://www.dt.co.kr/contents.html?article_no=2...</td>\n",
              "      <td>https://news.naver.com/main/read.naver?mode=LS...</td>\n",
              "      <td>5일 유통업계에 따르면 롯데홈쇼핑이 최근 공공전시 '벨리곰' 행사를 이슈화하는 데에...</td>\n",
              "      <td>Tue, 05 Apr 2022 19:46:00 +0900</td>\n",
              "    </tr>\n",
              "    <tr>\n",
              "      <th>4</th>\n",
              "      <td>[여행] 제주 여행도 럭셔리하게…5성급 호텔 몰려든다</td>\n",
              "      <td>https://www.sedaily.com/NewsView/264KR9O157</td>\n",
              "      <td>https://news.naver.com/main/read.naver?mode=LS...</td>\n",
              "      <td>5일 호텔 업계에 따르면 GS리테일의 호텔 사업 부문인 파르나스호텔이 7월 서귀포 ...</td>\n",
              "      <td>Tue, 05 Apr 2022 18:16:00 +0900</td>\n",
              "    </tr>\n",
              "    <tr>\n",
              "      <th>5</th>\n",
              "      <td>옥시·애경 분담금 수용 불가…11년만의 가습기살균제 조정 무산되나</td>\n",
              "      <td>https://www.joongang.co.kr/article/25061116</td>\n",
              "      <td>https://news.naver.com/main/read.naver?mode=LS...</td>\n",
              "      <td>SK케미칼·SK이노베이션·LG생활건강·GS리테일·롯데쇼핑·이마트·홈플러스 등 7개 ...</td>\n",
              "      <td>Tue, 05 Apr 2022 18:12:00 +0900</td>\n",
              "    </tr>\n",
              "    <tr>\n",
              "      <th>6</th>\n",
              "      <td>'바리스타, 서빙, 배달, 튀기기'…일하는 로봇 전성시대</td>\n",
              "      <td>http://www.upinews.kr/newsView/upi202204050055</td>\n",
              "      <td>http://www.upinews.kr/newsView/upi202204050055</td>\n",
              "      <td>GS리테일이 운영하는 편의점 GS25도 이달 말 치킨 조리 협동로봇의 시범 운영을 ...</td>\n",
              "      <td>Tue, 05 Apr 2022 18:08:00 +0900</td>\n",
              "    </tr>\n",
              "    <tr>\n",
              "      <th>7</th>\n",
              "      <td>GS리테일, 메타콩즈와 손잡고 ‘NFT 프로젝트’ 협업</td>\n",
              "      <td>https://www.dnews.co.kr/uhtml/view.jsp?idxno=2...</td>\n",
              "      <td>https://www.dnews.co.kr/uhtml/view.jsp?idxno=2...</td>\n",
              "      <td>5일 GS리테일에 따르면메타콩즈와 손잡고 ‘블록체인 기반 NFT 프로젝트’의 추진 ...</td>\n",
              "      <td>Tue, 05 Apr 2022 18:02:00 +0900</td>\n",
              "    </tr>\n",
              "    <tr>\n",
              "      <th>8</th>\n",
              "      <td>옥시·애경, 가습기살균제 조정안 반대…조정 성립 난항</td>\n",
              "      <td>https://biz.sbs.co.kr/article_hub/20000057208?...</td>\n",
              "      <td>https://news.naver.com/main/read.naver?mode=LS...</td>\n",
              "      <td>조정위에 참여한 가습기살균제 제조·유통기업은 롯데쇼핑·애경산업·이마트·SK이노베이션...</td>\n",
              "      <td>Tue, 05 Apr 2022 17:55:00 +0900</td>\n",
              "    </tr>\n",
              "    <tr>\n",
              "      <th>9</th>\n",
              "      <td>GS리테일, MZ세대 잡기 위해 NFT '메타콩즈'와 협업</td>\n",
              "      <td>http://www.newsis.com/view/?id=NISX20220405_00...</td>\n",
              "      <td>https://news.naver.com/main/read.naver?mode=LS...</td>\n",
              "      <td>GS리테일은 5일 메타콩즈와 손잡고 '블록체인 기반 NFT 프로젝트' 추진을 위한 ...</td>\n",
              "      <td>Tue, 05 Apr 2022 17:22:00 +0900</td>\n",
              "    </tr>\n",
              "  </tbody>\n",
              "</table>\n",
              "</div>\n",
              "      <button class=\"colab-df-convert\" onclick=\"convertToInteractive('df-8d0bf39b-757c-4046-a96f-572d0950c69b')\"\n",
              "              title=\"Convert this dataframe to an interactive table.\"\n",
              "              style=\"display:none;\">\n",
              "        \n",
              "  <svg xmlns=\"http://www.w3.org/2000/svg\" height=\"24px\"viewBox=\"0 0 24 24\"\n",
              "       width=\"24px\">\n",
              "    <path d=\"M0 0h24v24H0V0z\" fill=\"none\"/>\n",
              "    <path d=\"M18.56 5.44l.94 2.06.94-2.06 2.06-.94-2.06-.94-.94-2.06-.94 2.06-2.06.94zm-11 1L8.5 8.5l.94-2.06 2.06-.94-2.06-.94L8.5 2.5l-.94 2.06-2.06.94zm10 10l.94 2.06.94-2.06 2.06-.94-2.06-.94-.94-2.06-.94 2.06-2.06.94z\"/><path d=\"M17.41 7.96l-1.37-1.37c-.4-.4-.92-.59-1.43-.59-.52 0-1.04.2-1.43.59L10.3 9.45l-7.72 7.72c-.78.78-.78 2.05 0 2.83L4 21.41c.39.39.9.59 1.41.59.51 0 1.02-.2 1.41-.59l7.78-7.78 2.81-2.81c.8-.78.8-2.07 0-2.86zM5.41 20L4 18.59l7.72-7.72 1.47 1.35L5.41 20z\"/>\n",
              "  </svg>\n",
              "      </button>\n",
              "      \n",
              "  <style>\n",
              "    .colab-df-container {\n",
              "      display:flex;\n",
              "      flex-wrap:wrap;\n",
              "      gap: 12px;\n",
              "    }\n",
              "\n",
              "    .colab-df-convert {\n",
              "      background-color: #E8F0FE;\n",
              "      border: none;\n",
              "      border-radius: 50%;\n",
              "      cursor: pointer;\n",
              "      display: none;\n",
              "      fill: #1967D2;\n",
              "      height: 32px;\n",
              "      padding: 0 0 0 0;\n",
              "      width: 32px;\n",
              "    }\n",
              "\n",
              "    .colab-df-convert:hover {\n",
              "      background-color: #E2EBFA;\n",
              "      box-shadow: 0px 1px 2px rgba(60, 64, 67, 0.3), 0px 1px 3px 1px rgba(60, 64, 67, 0.15);\n",
              "      fill: #174EA6;\n",
              "    }\n",
              "\n",
              "    [theme=dark] .colab-df-convert {\n",
              "      background-color: #3B4455;\n",
              "      fill: #D2E3FC;\n",
              "    }\n",
              "\n",
              "    [theme=dark] .colab-df-convert:hover {\n",
              "      background-color: #434B5C;\n",
              "      box-shadow: 0px 1px 3px 1px rgba(0, 0, 0, 0.15);\n",
              "      filter: drop-shadow(0px 1px 2px rgba(0, 0, 0, 0.3));\n",
              "      fill: #FFFFFF;\n",
              "    }\n",
              "  </style>\n",
              "\n",
              "      <script>\n",
              "        const buttonEl =\n",
              "          document.querySelector('#df-8d0bf39b-757c-4046-a96f-572d0950c69b button.colab-df-convert');\n",
              "        buttonEl.style.display =\n",
              "          google.colab.kernel.accessAllowed ? 'block' : 'none';\n",
              "\n",
              "        async function convertToInteractive(key) {\n",
              "          const element = document.querySelector('#df-8d0bf39b-757c-4046-a96f-572d0950c69b');\n",
              "          const dataTable =\n",
              "            await google.colab.kernel.invokeFunction('convertToInteractive',\n",
              "                                                     [key], {});\n",
              "          if (!dataTable) return;\n",
              "\n",
              "          const docLinkHtml = 'Like what you see? Visit the ' +\n",
              "            '<a target=\"_blank\" href=https://colab.research.google.com/notebooks/data_table.ipynb>data table notebook</a>'\n",
              "            + ' to learn more about interactive tables.';\n",
              "          element.innerHTML = '';\n",
              "          dataTable['output_type'] = 'display_data';\n",
              "          await google.colab.output.renderOutput(dataTable, element);\n",
              "          const docLink = document.createElement('div');\n",
              "          docLink.innerHTML = docLinkHtml;\n",
              "          element.appendChild(docLink);\n",
              "        }\n",
              "      </script>\n",
              "    </div>\n",
              "  </div>\n",
              "  "
            ]
          },
          "metadata": {},
          "execution_count": 22
        }
      ]
    },
    {
      "cell_type": "code",
      "execution_count": 14,
      "id": "7fac2318",
      "metadata": {
        "colab": {
          "base_uri": "https://localhost:8080/"
        },
        "id": "7fac2318",
        "outputId": "6d45803f-7a16-409f-f6d7-8ec897d2a601"
      },
      "outputs": [
        {
          "output_type": "execute_result",
          "data": {
            "text/plain": [
              "0    SK케미칼·SK이노베이션·LG생활건강·GS리테일·롯데쇼핑·이마트·홈플러스 등 7개 ...\n",
              "1    GS리테일은 5일, (주)메타콩즈와 손잡고 '블록체인 기반 NFT 프로젝트'의 추진...\n",
              "2    GS리테일이 (주)메타콩즈와 손잡고 블록체인 기반 NFT 프로젝트 추진 및 상호 시...\n",
              "3    5일 유통업계에 따르면 롯데홈쇼핑이 최근 공공전시 '벨리곰' 행사를 이슈화하는 데에...\n",
              "4    5일 호텔 업계에 따르면 GS리테일의 호텔 사업 부문인 파르나스호텔이 7월 서귀포 ...\n",
              "5    SK케미칼·SK이노베이션·LG생활건강·GS리테일·롯데쇼핑·이마트·홈플러스 등 7개 ...\n",
              "6    GS리테일이 운영하는 편의점 GS25도 이달 말 치킨 조리 협동로봇의 시범 운영을 ...\n",
              "7    5일 GS리테일에 따르면메타콩즈와 손잡고 ‘블록체인 기반 NFT 프로젝트’의 추진 ...\n",
              "8    조정위에 참여한 가습기살균제 제조·유통기업은 롯데쇼핑·애경산업·이마트·SK이노베이션...\n",
              "9    GS리테일은 5일 메타콩즈와 손잡고 '블록체인 기반 NFT 프로젝트' 추진을 위한 ...\n",
              "Name: description, dtype: object"
            ]
          },
          "metadata": {},
          "execution_count": 14
        }
      ],
      "source": [
        "df_json['description']"
      ]
    },
    {
      "cell_type": "code",
      "source": [
        "text = str(df_json['description']) # df_json['description'] 는 object 형태이기 때문에 키워드 분석을 할려면 string 형태로 변환해야 한다."
      ],
      "metadata": {
        "id": "QCyXuEHA0poy"
      },
      "id": "QCyXuEHA0poy",
      "execution_count": 23,
      "outputs": []
    },
    {
      "cell_type": "markdown",
      "source": [
        "## 뉴스 기사 키워드 추출"
      ],
      "metadata": {
        "id": "2RIQdJ55z2VK"
      },
      "id": "2RIQdJ55z2VK"
    },
    {
      "cell_type": "code",
      "execution_count": 9,
      "id": "8cd5c07d",
      "metadata": {
        "colab": {
          "base_uri": "https://localhost:8080/"
        },
        "id": "8cd5c07d",
        "outputId": "bdcbe9af-fa1d-4c1b-c3fe-6b03054f0b5c"
      },
      "outputs": [
        {
          "output_type": "stream",
          "name": "stdout",
          "text": [
            "Collecting konlpy\n",
            "  Downloading konlpy-0.6.0-py2.py3-none-any.whl (19.4 MB)\n",
            "\u001b[K     |████████████████████████████████| 19.4 MB 1.3 MB/s \n",
            "\u001b[?25hRequirement already satisfied: numpy>=1.6 in /usr/local/lib/python3.7/dist-packages (from konlpy) (1.21.5)\n",
            "Requirement already satisfied: lxml>=4.1.0 in /usr/local/lib/python3.7/dist-packages (from konlpy) (4.2.6)\n",
            "Collecting JPype1>=0.7.0\n",
            "  Downloading JPype1-1.3.0-cp37-cp37m-manylinux_2_5_x86_64.manylinux1_x86_64.whl (448 kB)\n",
            "\u001b[K     |████████████████████████████████| 448 kB 54.0 MB/s \n",
            "\u001b[?25hRequirement already satisfied: typing-extensions in /usr/local/lib/python3.7/dist-packages (from JPype1>=0.7.0->konlpy) (3.10.0.2)\n",
            "Installing collected packages: JPype1, konlpy\n",
            "Successfully installed JPype1-1.3.0 konlpy-0.6.0\n"
          ]
        }
      ],
      "source": [
        "!pip install konlpy"
      ]
    },
    {
      "cell_type": "code",
      "source": [
        "from konlpy.tag import Twitter"
      ],
      "metadata": {
        "id": "MQKHE0y0z5oO"
      },
      "id": "MQKHE0y0z5oO",
      "execution_count": 24,
      "outputs": []
    },
    {
      "cell_type": "code",
      "source": [
        "def keyword_extractor(tagger, text):\n",
        "    tokens = tagger.phrases(text)\n",
        "    tokens = [ token for token in tokens if len(token) > 1 ] # 한 글자인 단어는 제외\n",
        "    count_dict = [(token, text.count(token)) for token in tokens ]\n",
        "    ranked_words = sorted(count_dict, key=lambda x:x[1], reverse=True)[:10]\n",
        "    return [ keyword for keyword, freq in ranked_words ]\n",
        "\n",
        "if __name__ == '__main__':\n",
        "    twit = Twitter()\n",
        "    print( keyword_extractor(twit, text) )"
      ],
      "metadata": {
        "colab": {
          "base_uri": "https://localhost:8080/"
        },
        "id": "EUPMQnc0z75d",
        "outputId": "34be4651-78b4-4bca-8c33-c0dd01fd023b"
      },
      "id": "EUPMQnc0z75d",
      "execution_count": 25,
      "outputs": [
        {
          "output_type": "stream",
          "name": "stderr",
          "text": [
            "/usr/local/lib/python3.7/dist-packages/konlpy/tag/_okt.py:17: UserWarning: \"Twitter\" has changed to \"Okt\" since KoNLPy v0.4.5.\n",
            "  warn('\"Twitter\" has changed to \"Okt\" since KoNLPy v0.4.5.')\n"
          ]
        },
        {
          "output_type": "stream",
          "name": "stdout",
          "text": [
            "['GS', 'GS리테일', '리테일', '5일', 'SK', '메타콩즈와', '블록체인', '블록체인 기반', '블록체인 기반 NFT', '블록체인 기반 NFT 프로젝트']\n"
          ]
        }
      ]
    },
    {
      "cell_type": "code",
      "source": [
        ""
      ],
      "metadata": {
        "id": "cvdht2yy0HgD"
      },
      "id": "cvdht2yy0HgD",
      "execution_count": null,
      "outputs": []
    }
  ],
  "metadata": {
    "kernelspec": {
      "display_name": "Python 3 (ipykernel)",
      "language": "python",
      "name": "python3"
    },
    "language_info": {
      "codemirror_mode": {
        "name": "ipython",
        "version": 3
      },
      "file_extension": ".py",
      "mimetype": "text/x-python",
      "name": "python",
      "nbconvert_exporter": "python",
      "pygments_lexer": "ipython3",
      "version": "3.9.7"
    },
    "colab": {
      "name": "뉴스 기사 키워드 분석.ipynb",
      "provenance": [],
      "collapsed_sections": []
    }
  },
  "nbformat": 4,
  "nbformat_minor": 5
}