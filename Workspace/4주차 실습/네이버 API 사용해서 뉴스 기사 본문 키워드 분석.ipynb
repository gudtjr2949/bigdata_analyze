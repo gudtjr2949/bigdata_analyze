{
 "cells": [
  {
   "cell_type": "code",
   "execution_count": 15,
   "id": "b15f2047",
   "metadata": {
    "executionInfo": {
     "elapsed": 332,
     "status": "ok",
     "timestamp": 1649223975990,
     "user": {
      "displayName": "이형석컴퓨터공학과",
      "userId": "11024130168588447483"
     },
     "user_tz": -540
    },
    "id": "b15f2047"
   },
   "outputs": [],
   "source": [
    "import pandas as pd\n",
    "import os\n",
    "import sys\n",
    "import urllib.request\n",
    "import json\n",
    "import re\n",
    "import numpy as np"
   ]
  },
  {
   "cell_type": "code",
   "execution_count": 2,
   "id": "093197ca",
   "metadata": {
    "executionInfo": {
     "elapsed": 5,
     "status": "ok",
     "timestamp": 1649223881359,
     "user": {
      "displayName": "이형석컴퓨터공학과",
      "userId": "11024130168588447483"
     },
     "user_tz": -540
    },
    "id": "093197ca"
   },
   "outputs": [],
   "source": [
    "def clean_html(x):\n",
    "  #https://predictor-ver1.tistory.com/4\n",
    "  x = re.sub(\"\\&\\w*\\;\",\"\",x)\n",
    "  x = re.sub(\"<.*?>\",\"\",x)\n",
    "  return x"
   ]
  },
  {
   "cell_type": "code",
   "execution_count": 60,
   "id": "58b76712",
   "metadata": {
    "executionInfo": {
     "elapsed": 1146,
     "status": "ok",
     "timestamp": 1649241073027,
     "user": {
      "displayName": "이형석컴퓨터공학과",
      "userId": "11024130168588447483"
     },
     "user_tz": -540
    },
    "id": "58b76712"
   },
   "outputs": [],
   "source": [
    "client_id = \"발급받은 ID 입력\"\n",
    "client_secret = \"발급받은 PW 입력\"\n",
    "encText = urllib.parse.quote(\"넷마블\") # 검색할 단어 입력\n",
    "url = \"https://openapi.naver.com/v1/search/news?query=\" + encText # json 결과\n",
    "#url = \"https://openapi.naver.com/v1/search/news.xml?query=\" + encText # xml 결과\n",
    "request = urllib.request.Request(url)\n",
    "request.add_header(\"X-Naver-Client-Id\",client_id)\n",
    "request.add_header(\"X-Naver-Client-Secret\",client_secret)\n",
    "response = urllib.request.urlopen(request)\n",
    "rescode = response.getcode()\n",
    "if(rescode==200):\n",
    "    response_body = response.read()\n",
    "    result = response_body.decode('utf-8')\n",
    "    #print(result)\n",
    "else:\n",
    "    print(\"Error Code:\" + rescode)"
   ]
  },
  {
   "cell_type": "code",
   "execution_count": 61,
   "id": "4e5673f9",
   "metadata": {
    "executionInfo": {
     "elapsed": 4,
     "status": "ok",
     "timestamp": 1649241074067,
     "user": {
      "displayName": "이형석컴퓨터공학과",
      "userId": "11024130168588447483"
     },
     "user_tz": -540
    },
    "id": "4e5673f9"
   },
   "outputs": [],
   "source": [
    "result_json = json.loads(result)"
   ]
  },
  {
   "cell_type": "code",
   "execution_count": 62,
   "id": "bb81944d",
   "metadata": {
    "executionInfo": {
     "elapsed": 4,
     "status": "ok",
     "timestamp": 1649241075188,
     "user": {
      "displayName": "이형석컴퓨터공학과",
      "userId": "11024130168588447483"
     },
     "user_tz": -540
    },
    "id": "bb81944d"
   },
   "outputs": [],
   "source": [
    "df_json = pd.DataFrame(result_json[\"items\"])"
   ]
  },
  {
   "cell_type": "code",
   "execution_count": 63,
   "id": "37ab8f45",
   "metadata": {
    "executionInfo": {
     "elapsed": 4,
     "status": "ok",
     "timestamp": 1649241076182,
     "user": {
      "displayName": "이형석컴퓨터공학과",
      "userId": "11024130168588447483"
     },
     "user_tz": -540
    },
    "id": "37ab8f45"
   },
   "outputs": [],
   "source": [
    "df_json['title'] = df_json['title'].apply(lambda x: clean_html(x))\n",
    "df_json['description'] = df_json['description'].apply(lambda x: clean_html(x))"
   ]
  },
  {
   "cell_type": "code",
   "execution_count": 64,
   "id": "jpcheT_Z1LWq",
   "metadata": {
    "colab": {
     "base_uri": "https://localhost:8080/",
     "height": 580
    },
    "executionInfo": {
     "elapsed": 7,
     "status": "ok",
     "timestamp": 1649241077230,
     "user": {
      "displayName": "이형석컴퓨터공학과",
      "userId": "11024130168588447483"
     },
     "user_tz": -540
    },
    "id": "jpcheT_Z1LWq",
    "outputId": "7b631160-3d63-44b0-c81b-faa21d2d7654"
   },
   "outputs": [
    {
     "data": {
      "text/html": [
       "\n",
       "  <div id=\"df-4ed49595-9dde-4256-86fa-733e6cdd0297\">\n",
       "    <div class=\"colab-df-container\">\n",
       "      <div>\n",
       "<style scoped>\n",
       "    .dataframe tbody tr th:only-of-type {\n",
       "        vertical-align: middle;\n",
       "    }\n",
       "\n",
       "    .dataframe tbody tr th {\n",
       "        vertical-align: top;\n",
       "    }\n",
       "\n",
       "    .dataframe thead th {\n",
       "        text-align: right;\n",
       "    }\n",
       "</style>\n",
       "<table border=\"1\" class=\"dataframe\">\n",
       "  <thead>\n",
       "    <tr style=\"text-align: right;\">\n",
       "      <th></th>\n",
       "      <th>title</th>\n",
       "      <th>originallink</th>\n",
       "      <th>link</th>\n",
       "      <th>description</th>\n",
       "      <th>pubDate</th>\n",
       "    </tr>\n",
       "  </thead>\n",
       "  <tbody>\n",
       "    <tr>\n",
       "      <th>0</th>\n",
       "      <td>넷마블 메타버스엔터, 현대차 제로원 펀드로부터 투자 유치</td>\n",
       "      <td>http://www.psnews.co.kr/news/articleView.html?...</td>\n",
       "      <td>http://www.psnews.co.kr/news/articleView.html?...</td>\n",
       "      <td>넷마블의 '메타버스엔터테인먼트'가 현대차그룹으로부터 경제적 가치 1000억원 수준을...</td>\n",
       "      <td>Wed, 06 Apr 2022 19:24:00 +0900</td>\n",
       "    </tr>\n",
       "    <tr>\n",
       "      <th>1</th>\n",
       "      <td>[2022 이사회 돋보기] 넷마블 방준혁, 新 사외이사 3인과 ‘재도약’ 원년 만...</td>\n",
       "      <td>http://www.fntimes.com/html/view.php?ud=202204...</td>\n",
       "      <td>http://www.fntimes.com/html/view.php?ud=202204...</td>\n",
       "      <td>기자] 넷마블(대표 권영식, 도기욱)이 지난 2017년 상장 이후 처음으로 사외이사...</td>\n",
       "      <td>Wed, 06 Apr 2022 19:12:00 +0900</td>\n",
       "    </tr>\n",
       "    <tr>\n",
       "      <th>2</th>\n",
       "      <td>2022 인디크래프트’ 출품작 모집 연일 성황</td>\n",
       "      <td>http://www.gameshot.net/common/con_view.php?co...</td>\n",
       "      <td>http://www.gameshot.net/common/con_view.php?co...</td>\n",
       "      <td>또한 원스토어, 엑솔라, 메가존클라우드, 넷마블 등 유수의 국내외 게임산업 관계사들...</td>\n",
       "      <td>Wed, 06 Apr 2022 19:10:00 +0900</td>\n",
       "    </tr>\n",
       "    <tr>\n",
       "      <th>3</th>\n",
       "      <td>NHN페이코, 기업 맞춤형 복지 솔루션 사이트 통합 개편</td>\n",
       "      <td>http://www.gameshot.net/common/con_view.php?co...</td>\n",
       "      <td>http://www.gameshot.net/common/con_view.php?co...</td>\n",
       "      <td>모바일 식권 서비스인 페이코 식권은 오프라인 가맹점은 물론 재택 근무 시 배달 앱,...</td>\n",
       "      <td>Wed, 06 Apr 2022 19:10:00 +0900</td>\n",
       "    </tr>\n",
       "    <tr>\n",
       "      <th>4</th>\n",
       "      <td>넷마블의 메타버스 사업 손자회사, 현대차 펀드서 20억 투자받아</td>\n",
       "      <td>https://www.businesspost.co.kr/BP?command=arti...</td>\n",
       "      <td>https://www.businesspost.co.kr/BP?command=arti...</td>\n",
       "      <td>넷마블의 메타버스 관련 손자회사가 현대차그룹으로부터 투자를 받았다. 넷마블은 넷마블...</td>\n",
       "      <td>Wed, 06 Apr 2022 19:04:00 +0900</td>\n",
       "    </tr>\n",
       "    <tr>\n",
       "      <th>5</th>\n",
       "      <td>[메카 랭킹] A3: 스틸얼라이브 상위 랭커가 선호하는 신화 세트 옵션은?</td>\n",
       "      <td>https://www.gamemeca.com/mv.php?inflow=naver_s...</td>\n",
       "      <td>https://sports.news.naver.com/news.nhn?oid=356...</td>\n",
       "      <td>넷마블은 개발자 노트를 통해 내일 진행할 학자 리메이크 내용을 공개했는데요, 기존 ...</td>\n",
       "      <td>Wed, 06 Apr 2022 18:58:00 +0900</td>\n",
       "    </tr>\n",
       "    <tr>\n",
       "      <th>6</th>\n",
       "      <td>넷마블 '일곱 개의 대죄:그랜드크로스', 웹툰으로 보는 '리뉴얼된 수련굴 도장...</td>\n",
       "      <td>https://www.gamechosun.co.kr/webzine/article/v...</td>\n",
       "      <td>https://www.gamechosun.co.kr/webzine/article/v...</td>\n",
       "      <td>넷마블이 서비스하는 모바일 RPG '일곱 개의 대죄 : 그랜드 크로스(이하 일곱개의...</td>\n",
       "      <td>Wed, 06 Apr 2022 18:56:00 +0900</td>\n",
       "    </tr>\n",
       "    <tr>\n",
       "      <th>7</th>\n",
       "      <td>주식재산 '1조 클럽' 대기업 총수 12명…이재용 부회장 13조원 최다</td>\n",
       "      <td>http://www.ntoday.co.kr/news/articleView.html?...</td>\n",
       "      <td>http://www.ntoday.co.kr/news/articleView.html?...</td>\n",
       "      <td>이밖에 6위부터 12위에는 아모레퍼시픽 서경배 회장(3조133억원), 넷마블 방준혁...</td>\n",
       "      <td>Wed, 06 Apr 2022 18:50:00 +0900</td>\n",
       "    </tr>\n",
       "    <tr>\n",
       "      <th>8</th>\n",
       "      <td>[4월 6일] 검은사막, 신규 클래스 업데이트 등 게임 업계 핫클립</td>\n",
       "      <td>http://www.gameple.co.kr/news/articleView.html...</td>\n",
       "      <td>http://www.gameple.co.kr/news/articleView.html...</td>\n",
       "      <td>넷마블 - 넷마블에프앤씨의 자회사 '메타버스엔터테인먼트'가 현대차그룹 '제로원 2호...</td>\n",
       "      <td>Wed, 06 Apr 2022 18:48:00 +0900</td>\n",
       "    </tr>\n",
       "    <tr>\n",
       "      <th>9</th>\n",
       "      <td>'스팀' 진출한 한국 게임 아쉬운 성적…왜?</td>\n",
       "      <td>http://www.tgdaily.co.kr/news/articleView.html...</td>\n",
       "      <td>http://www.tgdaily.co.kr/news/articleView.html...</td>\n",
       "      <td>이 밖에도 넥슨의 '프로젝트D', 원더피플의 '슈퍼피플', 넷마블의 '오버프라임' ...</td>\n",
       "      <td>Wed, 06 Apr 2022 18:36:00 +0900</td>\n",
       "    </tr>\n",
       "  </tbody>\n",
       "</table>\n",
       "</div>\n",
       "      <button class=\"colab-df-convert\" onclick=\"convertToInteractive('df-4ed49595-9dde-4256-86fa-733e6cdd0297')\"\n",
       "              title=\"Convert this dataframe to an interactive table.\"\n",
       "              style=\"display:none;\">\n",
       "        \n",
       "  <svg xmlns=\"http://www.w3.org/2000/svg\" height=\"24px\"viewBox=\"0 0 24 24\"\n",
       "       width=\"24px\">\n",
       "    <path d=\"M0 0h24v24H0V0z\" fill=\"none\"/>\n",
       "    <path d=\"M18.56 5.44l.94 2.06.94-2.06 2.06-.94-2.06-.94-.94-2.06-.94 2.06-2.06.94zm-11 1L8.5 8.5l.94-2.06 2.06-.94-2.06-.94L8.5 2.5l-.94 2.06-2.06.94zm10 10l.94 2.06.94-2.06 2.06-.94-2.06-.94-.94-2.06-.94 2.06-2.06.94z\"/><path d=\"M17.41 7.96l-1.37-1.37c-.4-.4-.92-.59-1.43-.59-.52 0-1.04.2-1.43.59L10.3 9.45l-7.72 7.72c-.78.78-.78 2.05 0 2.83L4 21.41c.39.39.9.59 1.41.59.51 0 1.02-.2 1.41-.59l7.78-7.78 2.81-2.81c.8-.78.8-2.07 0-2.86zM5.41 20L4 18.59l7.72-7.72 1.47 1.35L5.41 20z\"/>\n",
       "  </svg>\n",
       "      </button>\n",
       "      \n",
       "  <style>\n",
       "    .colab-df-container {\n",
       "      display:flex;\n",
       "      flex-wrap:wrap;\n",
       "      gap: 12px;\n",
       "    }\n",
       "\n",
       "    .colab-df-convert {\n",
       "      background-color: #E8F0FE;\n",
       "      border: none;\n",
       "      border-radius: 50%;\n",
       "      cursor: pointer;\n",
       "      display: none;\n",
       "      fill: #1967D2;\n",
       "      height: 32px;\n",
       "      padding: 0 0 0 0;\n",
       "      width: 32px;\n",
       "    }\n",
       "\n",
       "    .colab-df-convert:hover {\n",
       "      background-color: #E2EBFA;\n",
       "      box-shadow: 0px 1px 2px rgba(60, 64, 67, 0.3), 0px 1px 3px 1px rgba(60, 64, 67, 0.15);\n",
       "      fill: #174EA6;\n",
       "    }\n",
       "\n",
       "    [theme=dark] .colab-df-convert {\n",
       "      background-color: #3B4455;\n",
       "      fill: #D2E3FC;\n",
       "    }\n",
       "\n",
       "    [theme=dark] .colab-df-convert:hover {\n",
       "      background-color: #434B5C;\n",
       "      box-shadow: 0px 1px 3px 1px rgba(0, 0, 0, 0.15);\n",
       "      filter: drop-shadow(0px 1px 2px rgba(0, 0, 0, 0.3));\n",
       "      fill: #FFFFFF;\n",
       "    }\n",
       "  </style>\n",
       "\n",
       "      <script>\n",
       "        const buttonEl =\n",
       "          document.querySelector('#df-4ed49595-9dde-4256-86fa-733e6cdd0297 button.colab-df-convert');\n",
       "        buttonEl.style.display =\n",
       "          google.colab.kernel.accessAllowed ? 'block' : 'none';\n",
       "\n",
       "        async function convertToInteractive(key) {\n",
       "          const element = document.querySelector('#df-4ed49595-9dde-4256-86fa-733e6cdd0297');\n",
       "          const dataTable =\n",
       "            await google.colab.kernel.invokeFunction('convertToInteractive',\n",
       "                                                     [key], {});\n",
       "          if (!dataTable) return;\n",
       "\n",
       "          const docLinkHtml = 'Like what you see? Visit the ' +\n",
       "            '<a target=\"_blank\" href=https://colab.research.google.com/notebooks/data_table.ipynb>data table notebook</a>'\n",
       "            + ' to learn more about interactive tables.';\n",
       "          element.innerHTML = '';\n",
       "          dataTable['output_type'] = 'display_data';\n",
       "          await google.colab.output.renderOutput(dataTable, element);\n",
       "          const docLink = document.createElement('div');\n",
       "          docLink.innerHTML = docLinkHtml;\n",
       "          element.appendChild(docLink);\n",
       "        }\n",
       "      </script>\n",
       "    </div>\n",
       "  </div>\n",
       "  "
      ],
      "text/plain": [
       "                                              title  \\\n",
       "0                   넷마블 메타버스엔터, 현대차 제로원 펀드로부터 투자 유치   \n",
       "1  [2022 이사회 돋보기] 넷마블 방준혁, 新 사외이사 3인과 ‘재도약’ 원년 만...   \n",
       "2                         2022 인디크래프트’ 출품작 모집 연일 성황   \n",
       "3                   NHN페이코, 기업 맞춤형 복지 솔루션 사이트 통합 개편   \n",
       "4               넷마블의 메타버스 사업 손자회사, 현대차 펀드서 20억 투자받아   \n",
       "5         [메카 랭킹] A3: 스틸얼라이브 상위 랭커가 선호하는 신화 세트 옵션은?   \n",
       "6    넷마블 '일곱 개의 대죄:그랜드크로스', 웹툰으로 보는 '리뉴얼된 수련굴 도장...   \n",
       "7           주식재산 '1조 클럽' 대기업 총수 12명…이재용 부회장 13조원 최다   \n",
       "8             [4월 6일] 검은사막, 신규 클래스 업데이트 등 게임 업계 핫클립   \n",
       "9                          '스팀' 진출한 한국 게임 아쉬운 성적…왜?   \n",
       "\n",
       "                                        originallink  \\\n",
       "0  http://www.psnews.co.kr/news/articleView.html?...   \n",
       "1  http://www.fntimes.com/html/view.php?ud=202204...   \n",
       "2  http://www.gameshot.net/common/con_view.php?co...   \n",
       "3  http://www.gameshot.net/common/con_view.php?co...   \n",
       "4  https://www.businesspost.co.kr/BP?command=arti...   \n",
       "5  https://www.gamemeca.com/mv.php?inflow=naver_s...   \n",
       "6  https://www.gamechosun.co.kr/webzine/article/v...   \n",
       "7  http://www.ntoday.co.kr/news/articleView.html?...   \n",
       "8  http://www.gameple.co.kr/news/articleView.html...   \n",
       "9  http://www.tgdaily.co.kr/news/articleView.html...   \n",
       "\n",
       "                                                link  \\\n",
       "0  http://www.psnews.co.kr/news/articleView.html?...   \n",
       "1  http://www.fntimes.com/html/view.php?ud=202204...   \n",
       "2  http://www.gameshot.net/common/con_view.php?co...   \n",
       "3  http://www.gameshot.net/common/con_view.php?co...   \n",
       "4  https://www.businesspost.co.kr/BP?command=arti...   \n",
       "5  https://sports.news.naver.com/news.nhn?oid=356...   \n",
       "6  https://www.gamechosun.co.kr/webzine/article/v...   \n",
       "7  http://www.ntoday.co.kr/news/articleView.html?...   \n",
       "8  http://www.gameple.co.kr/news/articleView.html...   \n",
       "9  http://www.tgdaily.co.kr/news/articleView.html...   \n",
       "\n",
       "                                         description  \\\n",
       "0  넷마블의 '메타버스엔터테인먼트'가 현대차그룹으로부터 경제적 가치 1000억원 수준을...   \n",
       "1  기자] 넷마블(대표 권영식, 도기욱)이 지난 2017년 상장 이후 처음으로 사외이사...   \n",
       "2  또한 원스토어, 엑솔라, 메가존클라우드, 넷마블 등 유수의 국내외 게임산업 관계사들...   \n",
       "3  모바일 식권 서비스인 페이코 식권은 오프라인 가맹점은 물론 재택 근무 시 배달 앱,...   \n",
       "4  넷마블의 메타버스 관련 손자회사가 현대차그룹으로부터 투자를 받았다. 넷마블은 넷마블...   \n",
       "5  넷마블은 개발자 노트를 통해 내일 진행할 학자 리메이크 내용을 공개했는데요, 기존 ...   \n",
       "6  넷마블이 서비스하는 모바일 RPG '일곱 개의 대죄 : 그랜드 크로스(이하 일곱개의...   \n",
       "7  이밖에 6위부터 12위에는 아모레퍼시픽 서경배 회장(3조133억원), 넷마블 방준혁...   \n",
       "8  넷마블 - 넷마블에프앤씨의 자회사 '메타버스엔터테인먼트'가 현대차그룹 '제로원 2호...   \n",
       "9  이 밖에도 넥슨의 '프로젝트D', 원더피플의 '슈퍼피플', 넷마블의 '오버프라임' ...   \n",
       "\n",
       "                           pubDate  \n",
       "0  Wed, 06 Apr 2022 19:24:00 +0900  \n",
       "1  Wed, 06 Apr 2022 19:12:00 +0900  \n",
       "2  Wed, 06 Apr 2022 19:10:00 +0900  \n",
       "3  Wed, 06 Apr 2022 19:10:00 +0900  \n",
       "4  Wed, 06 Apr 2022 19:04:00 +0900  \n",
       "5  Wed, 06 Apr 2022 18:58:00 +0900  \n",
       "6  Wed, 06 Apr 2022 18:56:00 +0900  \n",
       "7  Wed, 06 Apr 2022 18:50:00 +0900  \n",
       "8  Wed, 06 Apr 2022 18:48:00 +0900  \n",
       "9  Wed, 06 Apr 2022 18:36:00 +0900  "
      ]
     },
     "execution_count": 64,
     "metadata": {},
     "output_type": "execute_result"
    }
   ],
   "source": [
    "df_json"
   ]
  },
  {
   "cell_type": "code",
   "execution_count": 71,
   "id": "7fac2318",
   "metadata": {
    "colab": {
     "base_uri": "https://localhost:8080/"
    },
    "executionInfo": {
     "elapsed": 309,
     "status": "ok",
     "timestamp": 1649245503786,
     "user": {
      "displayName": "이형석컴퓨터공학과",
      "userId": "11024130168588447483"
     },
     "user_tz": -540
    },
    "id": "7fac2318",
    "outputId": "e8c5c682-25b3-4c09-d0ca-b8af437b31af"
   },
   "outputs": [
    {
     "data": {
      "text/plain": [
       "0    넷마블의 '메타버스엔터테인먼트'가 현대차그룹으로부터 경제적 가치 1000억원 수준을...\n",
       "1    기자] 넷마블(대표 권영식, 도기욱)이 지난 2017년 상장 이후 처음으로 사외이사...\n",
       "2    또한 원스토어, 엑솔라, 메가존클라우드, 넷마블 등 유수의 국내외 게임산업 관계사들...\n",
       "3    모바일 식권 서비스인 페이코 식권은 오프라인 가맹점은 물론 재택 근무 시 배달 앱,...\n",
       "4    넷마블의 메타버스 관련 손자회사가 현대차그룹으로부터 투자를 받았다. 넷마블은 넷마블...\n",
       "5    넷마블은 개발자 노트를 통해 내일 진행할 학자 리메이크 내용을 공개했는데요, 기존 ...\n",
       "6    넷마블이 서비스하는 모바일 RPG '일곱 개의 대죄 : 그랜드 크로스(이하 일곱개의...\n",
       "7    이밖에 6위부터 12위에는 아모레퍼시픽 서경배 회장(3조133억원), 넷마블 방준혁...\n",
       "8    넷마블 - 넷마블에프앤씨의 자회사 '메타버스엔터테인먼트'가 현대차그룹 '제로원 2호...\n",
       "9    이 밖에도 넥슨의 '프로젝트D', 원더피플의 '슈퍼피플', 넷마블의 '오버프라임' ...\n",
       "Name: description, dtype: object"
      ]
     },
     "execution_count": 71,
     "metadata": {},
     "output_type": "execute_result"
    }
   ],
   "source": [
    "df_json['description'] # 기사 본문 내용"
   ]
  },
  {
   "cell_type": "code",
   "execution_count": 66,
   "id": "QCyXuEHA0poy",
   "metadata": {
    "executionInfo": {
     "elapsed": 241,
     "status": "ok",
     "timestamp": 1649241079678,
     "user": {
      "displayName": "이형석컴퓨터공학과",
      "userId": "11024130168588447483"
     },
     "user_tz": -540
    },
    "id": "QCyXuEHA0poy"
   },
   "outputs": [],
   "source": [
    "text = str(df_json['description']) # df_json['description'] 는 object 형태이기 때문에 키워드 분석을 할려면 string 형태로 변환해야 한다."
   ]
  },
  {
   "cell_type": "markdown",
   "id": "2RIQdJ55z2VK",
   "metadata": {
    "id": "2RIQdJ55z2VK"
   },
   "source": [
    "## 뉴스 기사 키워드 추출"
   ]
  },
  {
   "cell_type": "code",
   "execution_count": 67,
   "id": "8cd5c07d",
   "metadata": {
    "colab": {
     "base_uri": "https://localhost:8080/"
    },
    "executionInfo": {
     "elapsed": 3529,
     "status": "ok",
     "timestamp": 1649241084644,
     "user": {
      "displayName": "이형석컴퓨터공학과",
      "userId": "11024130168588447483"
     },
     "user_tz": -540
    },
    "id": "8cd5c07d",
    "outputId": "f2b67093-19ee-4ecb-c73c-35905d7632c0"
   },
   "outputs": [
    {
     "name": "stdout",
     "output_type": "stream",
     "text": [
      "Requirement already satisfied: konlpy in /usr/local/lib/python3.7/dist-packages (0.6.0)\n",
      "Requirement already satisfied: JPype1>=0.7.0 in /usr/local/lib/python3.7/dist-packages (from konlpy) (1.3.0)\n",
      "Requirement already satisfied: numpy>=1.6 in /usr/local/lib/python3.7/dist-packages (from konlpy) (1.21.5)\n",
      "Requirement already satisfied: lxml>=4.1.0 in /usr/local/lib/python3.7/dist-packages (from konlpy) (4.2.6)\n",
      "Requirement already satisfied: typing-extensions in /usr/local/lib/python3.7/dist-packages (from JPype1>=0.7.0->konlpy) (3.10.0.2)\n"
     ]
    }
   ],
   "source": [
    "!pip install konlpy"
   ]
  },
  {
   "cell_type": "code",
   "execution_count": 68,
   "id": "MQKHE0y0z5oO",
   "metadata": {
    "executionInfo": {
     "elapsed": 11,
     "status": "ok",
     "timestamp": 1649241084645,
     "user": {
      "displayName": "이형석컴퓨터공학과",
      "userId": "11024130168588447483"
     },
     "user_tz": -540
    },
    "id": "MQKHE0y0z5oO"
   },
   "outputs": [],
   "source": [
    "from konlpy.tag import Twitter"
   ]
  },
  {
   "cell_type": "code",
   "execution_count": 70,
   "id": "EUPMQnc0z75d",
   "metadata": {
    "colab": {
     "base_uri": "https://localhost:8080/"
    },
    "executionInfo": {
     "elapsed": 651,
     "status": "ok",
     "timestamp": 1649241090208,
     "user": {
      "displayName": "이형석컴퓨터공학과",
      "userId": "11024130168588447483"
     },
     "user_tz": -540
    },
    "id": "EUPMQnc0z75d",
    "outputId": "dbaf14fc-b13f-47dd-f0ef-844fbd0a40b8"
   },
   "outputs": [
    {
     "name": "stderr",
     "output_type": "stream",
     "text": [
      "/usr/local/lib/python3.7/dist-packages/konlpy/tag/_okt.py:17: UserWarning: \"Twitter\" has changed to \"Okt\" since KoNLPy v0.4.5.\n",
      "  warn('\"Twitter\" has changed to \"Okt\" since KoNLPy v0.4.5.')\n"
     ]
    },
    {
     "name": "stdout",
     "output_type": "stream",
     "text": [
      "['넷마블', '현대차그룹', '메타', '버스', '현대차', '그룹', '메타버스엔터테인먼트', '서비스', '일곱', '엔터테인먼트']\n"
     ]
    }
   ],
   "source": [
    "df = []\n",
    "\n",
    "def keyword_extractor(tagger, text):\n",
    "    tokens = tagger.phrases(text)\n",
    "    tokens = [ token for token in tokens if len(token) > 1 ] # 한 글자인 단어는 제외\n",
    "    count_dict = [(token, text.count(token)) for token in tokens ]\n",
    "    ranked_words = sorted(count_dict, key=lambda x:x[1], reverse=True)[:10]\n",
    "    return [ keyword for keyword, freq in ranked_words ]\n",
    "\n",
    "if __name__ == '__main__':\n",
    "    twit = Twitter()\n",
    "    print( keyword_extractor(twit, text) )\n",
    "    df = keyword_extractor(twit, text)"
   ]
  }
 ],
 "metadata": {
  "colab": {
   "collapsed_sections": [],
   "name": "네이버 API 사용해서 뉴스 기사 본문 키워드 분석.ipynb",
   "provenance": []
  },
  "kernelspec": {
   "display_name": "Python 3 (ipykernel)",
   "language": "python",
   "name": "python3"
  },
  "language_info": {
   "codemirror_mode": {
    "name": "ipython",
    "version": 3
   },
   "file_extension": ".py",
   "mimetype": "text/x-python",
   "name": "python",
   "nbconvert_exporter": "python",
   "pygments_lexer": "ipython3",
   "version": "3.9.7"
  }
 },
 "nbformat": 4,
 "nbformat_minor": 5
}
